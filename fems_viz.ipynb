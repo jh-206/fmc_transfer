{
 "cells": [
  {
   "cell_type": "code",
   "execution_count": null,
   "id": "c078046b-6323-4c46-be27-1bc3fe098c49",
   "metadata": {},
   "outputs": [],
   "source": [
    "import pandas as pd\n",
    "import numpy as np\n",
    "import matplotlib.pyplot as plt\n",
    "import cartopy.crs as ccrs\n",
    "import cartopy.feature as cfeature\n",
    "import matplotlib.patches as mpatches\n",
    "import cartopy.io.img_tiles as cimgt"
   ]
  },
  {
   "cell_type": "code",
   "execution_count": null,
   "id": "0f35db8c-3cb5-4053-8abc-9a38c9409cec",
   "metadata": {},
   "outputs": [],
   "source": [
    "df1 = pd.read_csv(\"data/FEMS/rocky24.csv\")\n",
    "df2 = pd.read_csv(\"data/FEMS/sw24.csv\")\n",
    "df3 = pd.read_csv(\"data/FEMS/gb24.csv\")\n",
    "df4 = pd.read_csv(\"data/FEMS/nr24.csv\")\n",
    "\n",
    "\n",
    "df = pd.concat((df1, df2, df3, df4))"
   ]
  },
  {
   "cell_type": "code",
   "execution_count": null,
   "id": "b1d753a2-59b8-4a60-96b8-948b50220917",
   "metadata": {},
   "outputs": [],
   "source": [
    "df.columns"
   ]
  },
  {
   "cell_type": "code",
   "execution_count": null,
   "id": "825950cd-3ec7-401f-91a0-078d55c2dce6",
   "metadata": {},
   "outputs": [],
   "source": [
    "\n",
    "plt.figure(figsize=(6, 4))\n",
    "plt.scatter(df['longitude'], df['latitude'], s=10)\n",
    "plt.xlabel('Longitude')\n",
    "plt.ylabel('Latitude')\n",
    "plt.title('All Locations')\n",
    "plt.grid(True)\n",
    "plt.show()\n"
   ]
  },
  {
   "cell_type": "code",
   "execution_count": null,
   "id": "36f0c979-558f-4a72-a192-16bd65fd1e75",
   "metadata": {},
   "outputs": [],
   "source": [
    "df2 = df[df.fuel_type.isin([\"1-Hour\", \"Duff\", \"100-Hour\"])]"
   ]
  },
  {
   "cell_type": "code",
   "execution_count": null,
   "id": "f6fd024c-d1f9-4edf-9199-6941604148f7",
   "metadata": {},
   "outputs": [],
   "source": [
    "import cartopy.io.img_tiles as cimgt\n",
    "esri = cimgt.GoogleTiles(\n",
    "    url='https://server.arcgisonline.com/ArcGIS/rest/services/World_Shaded_Relief/MapServer/tile/{z}/{y}/{x}.jpg'\n",
    ")\n",
    "osm = cimgt.OSM()"
   ]
  },
  {
   "cell_type": "code",
   "execution_count": null,
   "id": "3bde7019-5727-4429-989b-75bd31a90c6e",
   "metadata": {},
   "outputs": [],
   "source": [
    "plt.figure(figsize=(8, 6))\n",
    "ax = plt.axes(projection=ccrs.PlateCarree())\n",
    "\n",
    "ax.add_feature(cfeature.BORDERS, edgecolor='black')  # country borders (U.S.–Canada, etc.)\n",
    "ax.add_feature(cfeature.STATES, edgecolor='gray')    # U.S. state borders\n",
    "# ax.add_feature(cfeature.LAND, facecolor='lightgray')\n",
    "# ax.add_feature(cfeature.OCEAN, facecolor='lightblue')\n",
    "\n",
    "# ax.add_image(esri, 8)\n",
    "ax.add_image(osm, 8)\n",
    "ax.scatter(df['longitude'], df['latitude'], s=15, color='blue', transform=ccrs.PlateCarree())\n",
    "# ax.set_extent([-115, -100, 35, 50], crs=ccrs.PlateCarree())\n",
    "ax.set_xlabel('Longitude')\n",
    "ax.set_ylabel('Latitude')\n",
    "\n",
    "ax.set_title('FEMS Sampling Locations 2024')\n",
    "plt.savefig(\"outputs/fems_map.png\")"
   ]
  },
  {
   "cell_type": "code",
   "execution_count": null,
   "id": "8290151a-4538-43ae-beab-2bf6cbe94d49",
   "metadata": {},
   "outputs": [],
   "source": []
  },
  {
   "cell_type": "code",
   "execution_count": null,
   "id": "418373b9-71c2-472e-8d61-836c9c357b17",
   "metadata": {},
   "outputs": [],
   "source": []
  },
  {
   "cell_type": "code",
   "execution_count": null,
   "id": "cefe8266-a3ed-43f9-bce6-56d6d04e338f",
   "metadata": {},
   "outputs": [],
   "source": []
  },
  {
   "cell_type": "code",
   "execution_count": null,
   "id": "5f961ac6-3023-4860-a073-ed9b6a73a9b7",
   "metadata": {},
   "outputs": [],
   "source": []
  }
 ],
 "metadata": {
  "kernelspec": {
   "display_name": "Python 3 (ipykernel)",
   "language": "python",
   "name": "python3"
  },
  "language_info": {
   "codemirror_mode": {
    "name": "ipython",
    "version": 3
   },
   "file_extension": ".py",
   "mimetype": "text/x-python",
   "name": "python",
   "nbconvert_exporter": "python",
   "pygments_lexer": "ipython3",
   "version": "3.12.2"
  }
 },
 "nbformat": 4,
 "nbformat_minor": 5
}
