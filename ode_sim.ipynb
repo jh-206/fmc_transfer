{
 "cells": [
  {
   "cell_type": "markdown",
   "id": "6e4a703e-6bfa-4374-a510-cc50be1ae50d",
   "metadata": {},
   "source": [
    "# Data simulation with Timelag ODE\n",
    "\n",
    "The goal of this notebook is to describe simulating 1h data using the timelag ODE (Mandel 2016) to run as a data interpolation tool for fuel moisture content. "
   ]
  },
  {
   "cell_type": "markdown",
   "id": "d80b55cf-02de-49f2-8839-4b70dc360feb",
   "metadata": {},
   "source": [
    "## Setup"
   ]
  },
  {
   "cell_type": "code",
   "execution_count": null,
   "id": "f1175115-c138-4928-adb0-3aae13dcb97c",
   "metadata": {},
   "outputs": [],
   "source": [
    "import pandas as pd\n",
    "import numpy as np\n",
    "import matplotlib.pyplot as plt\n",
    "\n",
    "# Local modules\n",
    "from src.utils import read_yml, Dict\n",
    "\n",
    "ode_params = Dict(read_yml(\"etc/params_models.yaml\", subkey=\"ode\"))"
   ]
  },
  {
   "cell_type": "markdown",
   "id": "39b45f14-5708-432f-9222-9ae7dd5b2dee",
   "metadata": {},
   "source": [
    "## Adjust Params\n",
    "\n",
    "- Change timelag constant to 1\n",
    "- Reduce process variance, something larger like 1e-3\n",
    "- Reduce data variance, something very small like 1e-6. Don't want to make zero for stability reasons\n",
    "\n",
    "Checking some combos below"
   ]
  },
  {
   "cell_type": "code",
   "execution_count": null,
   "id": "e8b374cc-74c4-4b0c-960b-de35c5958858",
   "metadata": {},
   "outputs": [],
   "source": [
    "ode_params"
   ]
  },
  {
   "cell_type": "markdown",
   "id": "9a89a664-109d-4e31-ba5c-67beb29fa404",
   "metadata": {},
   "source": [
    "## Run a stretch of data\n",
    "\n",
    "Constant equilibria of 20\\%, no rain"
   ]
  },
  {
   "cell_type": "code",
   "execution_count": null,
   "id": "570cc7bf-8ae4-4fe6-ae61-9eca3efbe1aa",
   "metadata": {},
   "outputs": [],
   "source": [
    "m0 = 10   # Initial moisture content\n",
    "Nt = 100  # number of timesteps\n",
    "h2 = 50 # spinup hours\n",
    "\n",
    "dat = {\n",
    "    \"fm\": np.repeat(10, h2).astype(float),\n",
    "    \"Ed\": np.repeat(20, Nt).astype(float),\n",
    "    \"Ew\": np.repeat(20, Nt).astype(float),\n",
    "    \"rain\": np.repeat(0, Nt).astype(float)\n",
    "}"
   ]
  },
  {
   "cell_type": "code",
   "execution_count": null,
   "id": "13f8d864-3dbb-412e-924a-a209ffd5795d",
   "metadata": {},
   "outputs": [],
   "source": [
    "import importlib\n",
    "import src.moisture_ode \n",
    "importlib.reload(src.moisture_ode)\n",
    "\n",
    "\n",
    "from src.moisture_ode import ODE_FMC"
   ]
  },
  {
   "cell_type": "code",
   "execution_count": null,
   "id": "5653f1db-a2ea-4d1a-bf01-a81ebfbf36f4",
   "metadata": {},
   "outputs": [],
   "source": [
    "ode_params.update({\n",
    "    \"T\": 10, \n",
    "})\n",
    "mod = ODE_FMC(ode_params)"
   ]
  },
  {
   "cell_type": "code",
   "execution_count": null,
   "id": "6645143f-c5b1-40ce-86d8-76dfe1fc8cb2",
   "metadata": {},
   "outputs": [],
   "source": [
    "x = mod.run_model_single(dat, hours=Nt, h2 = h2)"
   ]
  },
  {
   "cell_type": "code",
   "execution_count": null,
   "id": "ef3eb780-0df5-4f2a-a4a5-7aaf47178cd9",
   "metadata": {},
   "outputs": [],
   "source": [
    "ode_params.update({\n",
    "    \"T\": 1, # 1h fine fuels\n",
    "})\n",
    "mod1 = ODE_FMC(ode_params)\n",
    "x1 = mod1.run_model_single(dat, hours=Nt, h2 = 5)"
   ]
  },
  {
   "cell_type": "code",
   "execution_count": null,
   "id": "3dd87ecf-016d-4d78-ba27-e79d14b69b6c",
   "metadata": {},
   "outputs": [],
   "source": [
    "plt.plot(x[0,:], label=\"T=10\")\n",
    "plt.plot(x1[0,:], label=\"T=1\")\n",
    "plt.legend()"
   ]
  },
  {
   "cell_type": "code",
   "execution_count": null,
   "id": "089ba727-3b1b-4a24-a4ac-80b67037b826",
   "metadata": {},
   "outputs": [],
   "source": []
  },
  {
   "cell_type": "code",
   "execution_count": null,
   "id": "1fed10da-f1dc-4ce7-a12f-b8a7550312ef",
   "metadata": {},
   "outputs": [],
   "source": []
  },
  {
   "cell_type": "code",
   "execution_count": null,
   "id": "0540fbba-e74c-4bcd-ba1e-67df756adca0",
   "metadata": {},
   "outputs": [],
   "source": []
  },
  {
   "cell_type": "code",
   "execution_count": null,
   "id": "fd4a0ce5-de2f-4916-8b9e-7efda7176ba6",
   "metadata": {},
   "outputs": [],
   "source": []
  },
  {
   "cell_type": "code",
   "execution_count": null,
   "id": "0595cc36-82ac-417b-a882-88f2f9faadb6",
   "metadata": {},
   "outputs": [],
   "source": []
  }
 ],
 "metadata": {
  "kernelspec": {
   "display_name": "Python 3 (ipykernel)",
   "language": "python",
   "name": "python3"
  },
  "language_info": {
   "codemirror_mode": {
    "name": "ipython",
    "version": 3
   },
   "file_extension": ".py",
   "mimetype": "text/x-python",
   "name": "python",
   "nbconvert_exporter": "python",
   "pygments_lexer": "ipython3",
   "version": "3.12.2"
  }
 },
 "nbformat": 4,
 "nbformat_minor": 5
}
