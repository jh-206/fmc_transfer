{
 "cells": [
  {
   "cell_type": "markdown",
   "id": "3d7b52af-0407-4258-b072-2a37c6b22a40",
   "metadata": {},
   "source": [
    "# FEMS API Tutorial\n",
    "\n",
    "This notebook is meant to demonstrate using the FEMS API to retrieve fuel moisture field samples. The code will be deployed through the python module `NAME.py`. The current goal is to read in 100h and 1000h field samples and adapt an RNN trained on 10h sensor data to forecast 100h FEMC via transfer learning. Longer term, this could be used to model live fuel types, duff, and dead moss."
   ]
  },
  {
   "cell_type": "markdown",
   "id": "12e6e4c1-b5e1-480a-9fbb-99c5e05eba5c",
   "metadata": {},
   "source": [
    "## Setup"
   ]
  },
  {
   "cell_type": "code",
   "execution_count": null,
   "id": "463364e0-3c94-4452-b765-cc14b06021ff",
   "metadata": {},
   "outputs": [],
   "source": [
    "import numpy as np\n",
    "import pandas as pd\n",
    "\n",
    "# Local modules\n",
    "import src.fems_api as fems\n",
    "from src.utils import read_yml"
   ]
  },
  {
   "cell_type": "markdown",
   "id": "793f265b-5c3b-4353-9d52-7a931c5be5fb",
   "metadata": {},
   "source": [
    "## Metadata\n",
    "\n",
    "The module has functions to get the following metadata related to the project. The code queries the API to get all available fields. The intended use of the functions is to query and build metadata files and save to a stash. The stash creation could be rerun on different systems or when the API updates.\n",
    "- All available sampling locations. Stashed in `data/fems_sts.xslx`\n",
    "    - Sites can be filtered by spatial bounding box, see `etc/gaccs.yaml` for bounding boxes for NIFC GACCs\n",
    "- All available fuel types. Stashed in `etc/fuels.yaml`\n",
    "\n",
    "NOTE: the spatial bounding boxes were used from `wrfxpy` `rtma_cycler`. The actual GACCs are not rectangular, so the bounding boxes buffer the actual areas. Thus, using the bbox values from `etc/gaccs.yaml` will collect some sampling locations that are designated as other GACCs than the one requested."
   ]
  },
  {
   "cell_type": "code",
   "execution_count": null,
   "id": "bcba32f2-3241-45ff-9f5f-78c3e21890aa",
   "metadata": {},
   "outputs": [],
   "source": [
    "sts = fems.get_all_sites(stash_path = \"data/fems_sts.xlsx\")\n",
    "fuels = fems.get_fuel_types(stash_path = \"etc/fuels.yaml\")"
   ]
  },
  {
   "cell_type": "code",
   "execution_count": null,
   "id": "2db03e11-782a-4692-a5e9-0317fb17b47b",
   "metadata": {},
   "outputs": [],
   "source": [
    "sts.head()"
   ]
  },
  {
   "cell_type": "code",
   "execution_count": null,
   "id": "70903909-4931-4aa5-affd-4e9a63ee03ba",
   "metadata": {},
   "outputs": [],
   "source": [
    "print(fuels[\"100-Hour\"])"
   ]
  },
  {
   "cell_type": "code",
   "execution_count": null,
   "id": "5ad2a8db-6a3d-4fa7-874f-7497432cef30",
   "metadata": {},
   "outputs": [],
   "source": [
    "bbox = read_yml(\"etc/gaccs.yaml\", subkey=\"Rocky Mountain GACC\")[\"bbox\"]\n",
    "bbox"
   ]
  },
  {
   "cell_type": "markdown",
   "id": "850ad58c-4e20-4608-994c-c45794faa09e",
   "metadata": {},
   "source": [
    "### Get Stations by BBox"
   ]
  },
  {
   "cell_type": "code",
   "execution_count": null,
   "id": "a117903d-05d0-4dc3-a1b2-818b6e715625",
   "metadata": {},
   "outputs": [],
   "source": [
    "sts = fems.get_sites_in_bbox(bbox = bbox, stash_path = \"data/fems_sts.xlsx\")\n",
    "sts"
   ]
  },
  {
   "cell_type": "markdown",
   "id": "50ae1a7e-beb1-4da7-976c-cdef673fb2bc",
   "metadata": {},
   "source": [
    "## Get Samples by Time Range\n",
    "\n",
    "- Define time period and list of stations (e.g. stations inside a bbox)\n",
    "- Retrieve sample IDs given those parameters\n",
    "- Retrieve all available 100h, 1000h, and Duff field samples"
   ]
  },
  {
   "cell_type": "code",
   "execution_count": null,
   "id": "1e38013b-ed39-49de-b697-bdac0f17d55f",
   "metadata": {},
   "outputs": [],
   "source": [
    "stids = sts.siteId.to_list()\n",
    "fm_params = {\n",
    "    \"startDate\": \"2024-01-01T00:00:00+00\",\n",
    "    \"endDate\": \"2024-06-30T23:00:00+00\",\n",
    "    \"siteIds\": [1352, 1348],\n",
    "    \"fuelTypes\": [\"100-Hour\", \"1000-Hour\", \"Duff\"],\n",
    "}"
   ]
  },
  {
   "cell_type": "code",
   "execution_count": null,
   "id": "23e3d057-9acb-4163-8cd7-2c188d8e3e8d",
   "metadata": {},
   "outputs": [],
   "source": [
    "results = fems.get_fuel_data(\n",
    "        fm_params, verbose=True\n",
    "    )"
   ]
  },
  {
   "cell_type": "code",
   "execution_count": null,
   "id": "8d9e4071-7eed-4254-a209-544a8dee4bfa",
   "metadata": {},
   "outputs": [],
   "source": [
    "results"
   ]
  },
  {
   "cell_type": "code",
   "execution_count": null,
   "id": "0ed47509-1446-4e54-9849-c6ced87f1408",
   "metadata": {},
   "outputs": [],
   "source": []
  },
  {
   "cell_type": "code",
   "execution_count": null,
   "id": "989e3658-dbcf-4316-8db6-e0b520fc0f8b",
   "metadata": {},
   "outputs": [],
   "source": []
  }
 ],
 "metadata": {
  "kernelspec": {
   "display_name": "Python 3 (ipykernel)",
   "language": "python",
   "name": "python3"
  },
  "language_info": {
   "codemirror_mode": {
    "name": "ipython",
    "version": 3
   },
   "file_extension": ".py",
   "mimetype": "text/x-python",
   "name": "python",
   "nbconvert_exporter": "python",
   "pygments_lexer": "ipython3",
   "version": "3.12.2"
  }
 },
 "nbformat": 4,
 "nbformat_minor": 5
}
