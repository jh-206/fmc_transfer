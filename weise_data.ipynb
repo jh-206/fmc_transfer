{
 "cells": [
  {
   "cell_type": "markdown",
   "id": "5b4e5d21-d69a-4a3d-bf3d-94ddab5a731c",
   "metadata": {},
   "source": [
    "# Fuel Moisture Field Observations from Hawaii\n",
    "\n",
    "The purpose of this notebook is to clean and format data received from David Weise on his field study of fuel moisture content in Hawaii in 2000. Observations were taken of various plant species, live and dead, and weather data from portable station as well as a nearby RAWS.\n",
    "\n",
    "## Background\n",
    "\n",
    "- Published in 2004\n",
    "- Used to compare Nelson model to other methods\n",
    "\n",
    "**Outstanding Questions about Weise study:**\n",
    "- How exactly was weather data in FM spreadsheet calculated from weather stations?\n",
    "- Were Nelson model outputs compared to observed for each fuel species?\n",
    "- For 3 samples were wet weight and dry weight switched?\n",
    "    - 2242\tOAHU\tMakua\t8/14/2000\t700\n",
    "    - 2275\tOAHU\tMakua\t8/14/2000\t2300\n",
    "    - 2444\tOAHU\tSchofield\t8/18/2000\t700\t"
   ]
  },
  {
   "cell_type": "markdown",
   "id": "ccd87e26-d898-4898-994f-975911d86cf0",
   "metadata": {},
   "source": [
    "## Setup"
   ]
  },
  {
   "cell_type": "code",
   "execution_count": 1,
   "id": "09e6cb97-f896-49bd-bf12-5cc9e3c68b70",
   "metadata": {},
   "outputs": [],
   "source": [
    "import numpy as np\n",
    "import pandas as pd\n",
    "import os.path as osp\n",
    "\n",
    "data_dir = \"data/Hawaii_Weise_2000\""
   ]
  },
  {
   "cell_type": "code",
   "execution_count": 2,
   "id": "750c06a2-3068-41d8-bc80-71b08ee2a6b6",
   "metadata": {},
   "outputs": [],
   "source": [
    "fm = pd.read_csv(osp.join(data_dir, \"hawaiiFM_for_Hirschi.csv\"))\n",
    "sts = pd.read_csv(osp.join(data_dir, \"site_location_for_Hirschi.csv\"), skipinitialspace=True)\n",
    "raws1999 = pd.read_csv(osp.join(data_dir, \"PTA_1999_RAWS.csv\"))\n",
    "raws2000 = pd.read_csv(osp.join(data_dir, \"HI_2000_RAWS.csv\"))\n",
    "raws2001 = pd.read_csv(osp.join(data_dir, \"Portable_RAWS_2001.csv\"))"
   ]
  },
  {
   "cell_type": "markdown",
   "id": "e9a7e1e8-f2c9-4fa5-b162-3a6343fb7f2f",
   "metadata": {},
   "source": [
    "## Clean\n",
    "\n",
    "- Remove missing FMC observations\n",
    "- Create date formatted column with time for FM and weather data\n",
    "- Add spatial info if missing, fix site names\n",
    "- Join weather data by year, add indicator if from portable station vs permanent RAWS"
   ]
  },
  {
   "cell_type": "code",
   "execution_count": 3,
   "id": "d29ba646-443f-421d-94b2-0a53c2d6b3c9",
   "metadata": {},
   "outputs": [
    {
     "data": {
      "text/plain": [
       "29.64832357637041"
      ]
     },
     "execution_count": 3,
     "metadata": {},
     "output_type": "execute_result"
    }
   ],
   "source": [
    "# Filter FM rows if missing fuel moisture, convert type\n",
    "df = fm.copy()\n",
    "df = df[~(df.Moisture_content.isna())]\n",
    "df = df[~(df.Moisture_content == \"*\")]\n",
    "df.Wet_weight = df.Wet_weight.astype(np.float64)\n",
    "df.Dry_weight = df.Dry_weight.astype(np.float64)\n",
    "df.Moisture_content = df.Moisture_content.astype(np.float64)\n",
    "\n",
    "# Manually check FMC calculation\n",
    "# NOTE: for a couple samples, wet weight is less than dry weight\n",
    "fmc_manual = 100*((df.Wet_weight - df.Dry_weight)/df.Dry_weight)\n",
    "np.max(np.abs(df.Moisture_content - fmc_manual))"
   ]
  },
  {
   "cell_type": "code",
   "execution_count": 4,
   "id": "7ff29689-ce0b-4be2-8e41-8d346eee24b1",
   "metadata": {},
   "outputs": [
    {
     "name": "stdout",
     "output_type": "stream",
     "text": [
      "Earliest FM Observation: 2000-08-11 00:00:00\n",
      "Latest FM Observation: 2001-09-12 11:00:00\n"
     ]
    }
   ],
   "source": [
    "# FM Data Time handling\n",
    "df[\"Time\"] = df[\"Time\"].astype(str).str.zfill(4)  # ensures 4 digits\n",
    "df[\"Time\"] = df[\"Time\"].str[:2] + \":\" + df[\"Time\"].str[2:]\n",
    "df[\"date_time\"] = pd.to_datetime(df[\"Date\"] + \" \" + df[\"Time\"])\n",
    "\n",
    "# Print some checks\n",
    "print(f\"Earliest FM Observation: {df.date_time.min()}\")\n",
    "print(f\"Latest FM Observation: {df.date_time.max()}\")"
   ]
  },
  {
   "cell_type": "code",
   "execution_count": 5,
   "id": "c08e96e9-0f75-44f1-b3d6-661f718a3729",
   "metadata": {},
   "outputs": [
    {
     "name": "stdout",
     "output_type": "stream",
     "text": [
      "sts.site=0         Mauna_Kea\n",
      "1     Puʻu Waʻawaʻa\n",
      "2              HVNP\n",
      "3              Kula\n",
      "4          McGregor\n",
      "5            Keanae\n",
      "6         Kaʻena_Pt\n",
      "7          Polihale\n",
      "8             Makua\n",
      "9         Schofield\n",
      "10         PTA East\n",
      "Name: site, dtype: object\n",
      "\n",
      "pd.Series(fm.Site.unique())=0     Polihale_Ridge\n",
      "1               HVNP\n",
      "2           McGregor\n",
      "3               Kula\n",
      "4             Keanae\n",
      "5        Kaena_Point\n",
      "6      Pu_u_Wa_awa_a\n",
      "7          Mauna_Kea\n",
      "8              Makua\n",
      "9          Schofield\n",
      "10           PTAEast\n",
      "dtype: object\n",
      "\n",
      "Renaming stations dataframe\n",
      "All Station IDs in FM Dataframe: True\n",
      "\n",
      "Merging Spatial Data\n",
      "Original df.shape=(2453, 14)\n",
      "New df.shape=(2453, 18)\n"
     ]
    }
   ],
   "source": [
    "# FM Spatial Data Handling\n",
    "print(f\"{sts.site=}\")\n",
    "print()\n",
    "print(f\"{pd.Series(fm.Site.unique())=}\")\n",
    "\n",
    "# Rename stations spreadsheet to join (easier programmatically to change that one)\n",
    "sts[\"site\"] = sts['site'].replace({\n",
    "    \"Puʻu Waʻawaʻa\": \"Pu_u_Wa_awa_a\",\n",
    "    \"Kaʻena_Pt\": \"Kaena_Point\",\n",
    "    \"Polihale\": \"Polihale_Ridge\",\n",
    "    \"PTA East\": \"PTAEast\"\n",
    "})\n",
    "print()\n",
    "print(f\"Renaming stations dataframe\")\n",
    "print(f\"All Station IDs in FM Dataframe: {np.all(sts.site.isin(df.Site))}\")\n",
    "\n",
    "# Add spatial columns to fm data\n",
    "# Print checks, expect to see extra columns from sp data without changing rows\n",
    "sp_cols = [\"site\", \"lat\", \"long\", \"elev\"]\n",
    "print()\n",
    "print(f\"Merging Spatial Data\")\n",
    "print(f\"Original {df.shape=}\")\n",
    "df = df.merge(sts[sp_cols], left_on=\"Site\", right_on=\"site\")\n",
    "print(f\"New {df.shape=}\")"
   ]
  },
  {
   "cell_type": "markdown",
   "id": "78335588-0bb6-4088-8388-0c863fbe1d62",
   "metadata": {},
   "source": [
    "## Explore"
   ]
  },
  {
   "cell_type": "code",
   "execution_count": 6,
   "id": "4664ba8f-0dce-478f-838f-ca4e270afd1d",
   "metadata": {},
   "outputs": [
    {
     "name": "stdout",
     "output_type": "stream",
     "text": [
      "Location Observation Times:\n",
      "Earliest: 2001-07-31 09:00:00\n",
      "Latest: 2001-08-03 18:00:00\n"
     ]
    }
   ],
   "source": [
    "# Pick one location and species\n",
    "df2 = df[(df.Site == \"Polihale_Ridge\") & (df.Fuel_species == 'PITA&PIEL')]\n",
    "print(f\"Location Observation Times:\")\n",
    "print(f\"Earliest: {df2.date_time.min()}\")\n",
    "print(f\"Latest: {df2.date_time.max()}\")"
   ]
  },
  {
   "cell_type": "code",
   "execution_count": 7,
   "id": "721381bd-87ea-4a72-91c3-1eb66e019072",
   "metadata": {},
   "outputs": [
    {
     "data": {
      "text/plain": [
       "array([2, 1])"
      ]
     },
     "execution_count": 7,
     "metadata": {},
     "output_type": "execute_result"
    }
   ],
   "source": [
    "# 2 observations per time\n",
    "df2.groupby([\"date_time\"]).agg(\"count\")[\"Moisture_content\"].unique()"
   ]
  },
  {
   "cell_type": "code",
   "execution_count": null,
   "id": "45c0567e-b5f1-4c4c-8799-d31d9628fe87",
   "metadata": {},
   "outputs": [],
   "source": []
  },
  {
   "cell_type": "code",
   "execution_count": null,
   "id": "b0e95ae6-8865-4295-ac0a-59422f74a515",
   "metadata": {},
   "outputs": [],
   "source": []
  },
  {
   "cell_type": "code",
   "execution_count": null,
   "id": "5843cb42-b5cd-4c84-8a85-d8530bd91ee4",
   "metadata": {},
   "outputs": [],
   "source": []
  }
 ],
 "metadata": {
  "kernelspec": {
   "display_name": "Python 3 (ipykernel)",
   "language": "python",
   "name": "python3"
  },
  "language_info": {
   "codemirror_mode": {
    "name": "ipython",
    "version": 3
   },
   "file_extension": ".py",
   "mimetype": "text/x-python",
   "name": "python",
   "nbconvert_exporter": "python",
   "pygments_lexer": "ipython3",
   "version": "3.12.2"
  }
 },
 "nbformat": 4,
 "nbformat_minor": 5
}
