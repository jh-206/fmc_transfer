{
 "cells": [
  {
   "cell_type": "markdown",
   "id": "bb490a1b-e3f6-4202-a767-52a4e8827506",
   "metadata": {},
   "source": [
    "# Predicting FMC with trained 10h Model\n",
    "\n",
    "Model trained on hourly dead 10h. Applying model to local weather and comparing to field observations.\n",
    "\n",
    "Geographic info from Mesonet slapout: https://www.mesonet.org/about/station-information?stid=slap"
   ]
  },
  {
   "cell_type": "markdown",
   "id": "238e9205-4956-4272-bb65-2919bfce1a09",
   "metadata": {},
   "source": [
    "## Setup"
   ]
  },
  {
   "cell_type": "code",
   "execution_count": null,
   "id": "7116ee20-1a61-4884-b481-f0691923dba8",
   "metadata": {},
   "outputs": [],
   "source": [
    "import numpy as np\n",
    "import tensorflow as tf\n",
    "import pandas as pd\n",
    "from src.models import moisture_rnn as mrnn\n",
    "from src.utils import read_yml"
   ]
  },
  {
   "cell_type": "code",
   "execution_count": null,
   "id": "3ae828f6-100e-49bd-85c3-16c011c7cba6",
   "metadata": {},
   "outputs": [],
   "source": [
    "# Read Trained model\n",
    "params = read_yml(\"models/params.yaml\")\n",
    "rnn = mrnn.RNN_Flexible(params=params)"
   ]
  },
  {
   "cell_type": "code",
   "execution_count": null,
   "id": "c0bbd0d3-a2fc-4c68-a7f3-053613951038",
   "metadata": {},
   "outputs": [],
   "source": [
    "rnn.load_weights('models/rnn.keras')"
   ]
  },
  {
   "cell_type": "markdown",
   "id": "c165c05c-a1e6-4365-9fb5-e0ea1fdd95a6",
   "metadata": {},
   "source": [
    "## Handle observed Carlson Data"
   ]
  },
  {
   "cell_type": "code",
   "execution_count": null,
   "id": "7430c1a5-901c-40d9-af69-2191ddac2074",
   "metadata": {},
   "outputs": [],
   "source": [
    "weather = pd.read_excel(\"data/processed_data/ok_weather.xlsx\")\n",
    "fm10 = pd.read_excel(\"data/processed_data/ok_data_10h.xlsx\")"
   ]
  },
  {
   "cell_type": "code",
   "execution_count": null,
   "id": "e71b99d3-aa39-4052-be9f-d30b9f93c0a5",
   "metadata": {},
   "outputs": [],
   "source": [
    "# Calculate Variables\n",
    "rh = weather.rh\n",
    "temp = weather.temp\n",
    "Ed = 0.924 * rh**0.679 + 0.000499 * np.exp(0.1 * rh) + 0.18 * (21.1 + 273.15 - temp) * (1 - np.exp(-0.115 * rh))\n",
    "Ew = 0.618 * rh**0.753 + 0.000454 * np.exp(0.1 * rh) + 0.18 * (21.1 + 273.15 - temp) * (1 - np.exp(-0.115 * rh))\n",
    "\n",
    "hod = weather.date.dt.hour\n",
    "doy = weather.date.dt.dayofyear\n",
    "\n",
    "# Geographic Variables from Slapout station"
   ]
  },
  {
   "cell_type": "code",
   "execution_count": null,
   "id": "ce995f32-8710-4d41-8a14-625bfdd6ca39",
   "metadata": {},
   "outputs": [],
   "source": [
    "X = pd.DataFrame({\n",
    "    \"Ed\": Ed,\n",
    "    \"Ew\": Ew,\n",
    "    \"solar\": weather[\"k.down\"],\n",
    "    \"wind\": weather[\"wind.speed\"],\n",
    "    \"elev\": 774,\n",
    "    \"lon\": -100.261920,\n",
    "    \"lat\": 36.597490,\n",
    "    \"rain\": weather.precip,\n",
    "    \"hod\": hod,\n",
    "    \"doy\": doy\n",
    "})\n",
    "\n",
    "print(f\"Columns match: {np.all(X.columns == params['features_list'])}\")"
   ]
  },
  {
   "cell_type": "code",
   "execution_count": null,
   "id": "df8941fd-a1a5-44c2-9b1b-e6f161b93e6a",
   "metadata": {},
   "outputs": [],
   "source": [
    "# Get scaler from RNN Data\n"
   ]
  },
  {
   "cell_type": "code",
   "execution_count": null,
   "id": "3e564ffd-b1ab-4300-b8a2-8272952d1602",
   "metadata": {},
   "outputs": [],
   "source": [
    "#\n",
    "XX = X.to_numpy().reshape(1, *X.shape)\n",
    "preds = rnn.predict(XX).flatten()"
   ]
  },
  {
   "cell_type": "code",
   "execution_count": null,
   "id": "287f0c29-804f-4652-9270-cb5828173bfa",
   "metadata": {},
   "outputs": [],
   "source": []
  }
 ],
 "metadata": {
  "kernelspec": {
   "display_name": "Python 3 (ipykernel)",
   "language": "python",
   "name": "python3"
  },
  "language_info": {
   "codemirror_mode": {
    "name": "ipython",
    "version": 3
   },
   "file_extension": ".py",
   "mimetype": "text/x-python",
   "name": "python",
   "nbconvert_exporter": "python",
   "pygments_lexer": "ipython3",
   "version": "3.12.2"
  }
 },
 "nbformat": 4,
 "nbformat_minor": 5
}
