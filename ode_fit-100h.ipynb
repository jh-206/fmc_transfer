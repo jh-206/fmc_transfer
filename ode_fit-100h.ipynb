{
 "cells": [
  {
   "cell_type": "markdown",
   "id": "6e4a703e-6bfa-4374-a510-cc50be1ae50d",
   "metadata": {},
   "source": [
    "# Fitting Data with Timelag ODE\n",
    "\n",
    "The goal of this notebook is to describe adapting the timelag ODE (Mandel 2016) to run as a data interpolation tool for fuel moisture content. By adapting the covariance matrices of the Kalman Filter, the ODE can be made to closely reproduce known FMC values. The purpose of this is to use it as a physics-guided interpolation tool. The field study Carlson 2007 observed 1h FMC twice daily. We wish to have an hourly resolution dataset, so we will test transforming the observed carlson data into a 1h resolution dataset using the ODE to fill in the gaps."
   ]
  },
  {
   "cell_type": "markdown",
   "id": "d80b55cf-02de-49f2-8839-4b70dc360feb",
   "metadata": {},
   "source": [
    "## Setup"
   ]
  },
  {
   "cell_type": "code",
   "execution_count": null,
   "id": "f1175115-c138-4928-adb0-3aae13dcb97c",
   "metadata": {},
   "outputs": [],
   "source": [
    "import numpy as np\n",
    "import pandas as pd\n",
    "import matplotlib.pyplot as plt\n",
    "from dateutil.relativedelta import relativedelta\n",
    "from src.utils import read_yml, time_range, plot_styles\n",
    "from src.moisture_ode import ODE_FMC"
   ]
  },
  {
   "cell_type": "code",
   "execution_count": null,
   "id": "23c49ec3-a57a-4a64-adc1-0ffe3eaf6267",
   "metadata": {},
   "outputs": [],
   "source": [
    "# Cleaned data from Carlson study, run code to clean data from Vanderkamp to create this file\n",
    "df = pd.read_excel(\"data/ok_data_100h.xlsx\")\n",
    "weather = pd.read_excel(\"data/ok_weather_100h.xlsx\")\n",
    "ode_params = read_yml(\"etc/params_models.yaml\", subkey=\"ode\")"
   ]
  },
  {
   "cell_type": "markdown",
   "id": "39b45f14-5708-432f-9222-9ae7dd5b2dee",
   "metadata": {},
   "source": [
    "## Adjust Params\n",
    "\n",
    "- Change timelag constant to 1\n",
    "- Reduce process variance, something larger like 1e-2\n",
    "- Reduce data variance, something very small like 1e-5. Don't want to make zero for stability reasons\n",
    "\n",
    "Checking some combos below"
   ]
  },
  {
   "cell_type": "code",
   "execution_count": null,
   "id": "e8b374cc-74c4-4b0c-960b-de35c5958858",
   "metadata": {},
   "outputs": [],
   "source": [
    "ode_params"
   ]
  },
  {
   "cell_type": "code",
   "execution_count": null,
   "id": "5ebd700d-bd61-457d-a5bd-5995d84d0c88",
   "metadata": {},
   "outputs": [],
   "source": [
    "ode_params.update({\n",
    "    \"T\": 100, \n",
    "    \"process_variance\": 1e-2, \n",
    "    \"data_variance\": 1e-5\n",
    "})"
   ]
  },
  {
   "cell_type": "markdown",
   "id": "9a89a664-109d-4e31-ba5c-67beb29fa404",
   "metadata": {},
   "source": [
    "## Get test stretch of data"
   ]
  },
  {
   "cell_type": "code",
   "execution_count": null,
   "id": "570cc7bf-8ae4-4fe6-ae61-9eca3efbe1aa",
   "metadata": {},
   "outputs": [],
   "source": [
    "df2 = df.iloc[10:25].copy()\n",
    "t0 = df2.date.min()\n",
    "t1 = df2.date.max()\n",
    "\n",
    "# Filter weather data to times\n",
    "X = weather[\n",
    "    (weather.date >= t0 - relativedelta(hours=1)) & (weather.date <= t1+relativedelta(hours=1))\n",
    "]\n",
    "\n",
    "print(f\"Start Time: {t0}\")\n",
    "print(f\"End Time: {t1}\")\n",
    "print(f\"Total Times: {X.shape[0]}\")\n",
    "print(f\"Number of Weather Observations: {X.shape[0]}\")\n",
    "print(f\"Number of FMC Observations: {df2.shape}\")"
   ]
  },
  {
   "cell_type": "markdown",
   "id": "ba14dde3-47d4-4df0-ab92-64b3acc020cd",
   "metadata": {},
   "source": [
    "## Run ODE with periodic Data Assimilation\n",
    "\n",
    "Rounding observed FM times to nearest hour for now just to build code for periodic assimilation.\n",
    "\n",
    "Questions for Jan:\n",
    "- Run ODE with minute time lag?\n",
    "- OR, interpolate observed FMC data to the hour? Half hour with new data?"
   ]
  },
  {
   "cell_type": "markdown",
   "id": "27b856de-5893-4ce5-86fe-6601656392d8",
   "metadata": {},
   "source": [
    "Analytic solution to simple ODE with single input $E$ constant over time:\n",
    "\n",
    "$$\n",
    "m_{t+\\Delta t} = (1-e^{-1/T})E + e^{-1/T}m_t\n",
    "$$"
   ]
  },
  {
   "cell_type": "code",
   "execution_count": null,
   "id": "afd0f727-22fe-481c-9da1-0ce68dac3c29",
   "metadata": {},
   "outputs": [],
   "source": [
    "times = X.date.to_numpy()\n",
    "hours = len(times)     # total timesteps length"
   ]
  },
  {
   "cell_type": "raw",
   "id": "87b8d4c5-402c-4a60-bdb1-818a56761752",
   "metadata": {},
   "source": [
    "Psuedocode: \n",
    "for all times\n",
    "    check if observed data exists at time\n",
    "        True: Kalmann update step\n",
    "        False: advance model"
   ]
  },
  {
   "cell_type": "code",
   "execution_count": null,
   "id": "f2c9c923-67c5-4132-a08c-517ed376e713",
   "metadata": {},
   "outputs": [],
   "source": [
    "# Rounding times to nearest hour for now\n",
    "df2['date_rounded'] = df2['date'].dt.round('h')\n",
    "df2[[\"date\", \"date_rounded\"]].head()"
   ]
  },
  {
   "cell_type": "code",
   "execution_count": null,
   "id": "8810a756-cd7e-42a0-8ddd-aa3a7f87916f",
   "metadata": {},
   "outputs": [],
   "source": [
    "# Extend FM data with NAs to match weather data size\n",
    "ref_idx = pd.DatetimeIndex(X['date'])\n",
    "fm = (\n",
    "    df2.set_index('date_rounded')\n",
    "       .reindex(ref_idx)\n",
    "       .rename_axis('date_rounded')\n",
    "       .reset_index()\n",
    ")\n",
    "\n",
    "rh = X.rh.to_numpy()\n",
    "temp = X.temp.to_numpy()\n",
    "temp = temp + 273.15 # C to F\n",
    "Ed = 0.924 * rh**0.679 + 0.000499 * np.exp(0.1 * rh) + 0.18 * (21.1 + 273.15 - temp) * (1 - np.exp(-0.115 * rh))\n",
    "Ew = 0.618 * rh**0.753 + 0.000454 * np.exp(0.1 * rh) + 0.18 * (21.1 + 273.15 - temp) * (1 - np.exp(-0.115 * rh))\n",
    "rain = X.precip.to_numpy()\n",
    "d = fm[\"fuel.mois_100h\"].to_numpy()\n",
    "\n",
    "# Trim to first available data\n",
    "ind0 = np.where(~np.isnan(d))[0].min()\n",
    "Ed = Ed[ind0:]\n",
    "Ew = Ew[ind0:]\n",
    "rain = rain[ind0:]\n",
    "d = d[ind0:]\n",
    "times = times[ind0:]\n",
    "hours = d.shape[0]"
   ]
  },
  {
   "cell_type": "code",
   "execution_count": null,
   "id": "d2841c5a-4f12-474f-bf49-a7551768aa02",
   "metadata": {},
   "outputs": [],
   "source": [
    "# Check data\n",
    "plt.scatter(np.arange(0, len(d)), d)"
   ]
  },
  {
   "cell_type": "markdown",
   "id": "fa5e7a25-7a03-4fba-9819-8abb1d875345",
   "metadata": {},
   "source": [
    "## Default Noise Variance\n",
    "\n",
    "$R = 1e-03$\n",
    "\n",
    "Setting initial $\\Delta E=-2$"
   ]
  },
  {
   "cell_type": "code",
   "execution_count": null,
   "id": "726eccee-1542-4691-8bec-338491d56a19",
   "metadata": {},
   "outputs": [],
   "source": [
    "# Background State and Covariance Matrices\n",
    "u = np.zeros((2,hours))\n",
    "u[:,0]=[d[0],-2.0]       # initialize,background state \n",
    "P = np.zeros((2,2,hours))\n",
    "P[:,:,0] = np.array([[1e-3, 0.],\n",
    "                  [0.,  1e-3]]) # background state covariance\n",
    "Q = np.array([[1e-05, 0.],\n",
    "            [0,  1e-03]]) # process noise covariance\n",
    "H = np.array([[1., 0.]])  # first component observed\n",
    "R = np.array([1e-3]) # data variance\n",
    "T = 100.0 # timelag"
   ]
  },
  {
   "cell_type": "code",
   "execution_count": null,
   "id": "df7cb966-a7b3-4a06-8258-a23178edbcbc",
   "metadata": {
    "scrolled": true
   },
   "outputs": [],
   "source": [
    "from src.moisture_ode import model_augmented, ext_kf\n",
    "\n",
    "for t in range(1, hours):\n",
    "    update_phase = ~np.isnan(d[t])\n",
    "    if update_phase:\n",
    "        u[:,t],P[:,:,t] = ext_kf(u[:,t-1],P[:,:,t-1],\n",
    "                                  lambda uu: model_augmented(uu,Ed[t],Ew[t],rain[t],t, T=T),\n",
    "                                  Q,d[t],H=H,R=R)\n",
    "    else:\n",
    "        u[:,t],P[:,:,t] = ext_kf(u[:,t-1],P[:,:,t-1],\n",
    "                                  lambda uu: model_augmented(uu,Ed[t],Ew[t],rain[t],t, T=T),\n",
    "                                  Q*0.0)"
   ]
  },
  {
   "cell_type": "code",
   "execution_count": null,
   "id": "a6ee5192-6689-4b3e-ba85-f579f2eb337f",
   "metadata": {},
   "outputs": [],
   "source": [
    "plt.plot(times, Ed, **plot_styles[\"Ed\"])\n",
    "plt.plot(times, Ew, **plot_styles[\"Ew\"])\n",
    "plt.plot(times, rain, **plot_styles[\"rain\"])\n",
    "plt.xticks(rotation=90)\n",
    "plt.scatter(times, d, **plot_styles[\"fm\"])\n",
    "plt.plot(times, u[0, :], **plot_styles[\"model\"])\n",
    "plt.legend()\n",
    "plt.title(f\"KF With {T=}, {R=}\")"
   ]
  },
  {
   "cell_type": "code",
   "execution_count": null,
   "id": "cee27c65-2b89-4961-96a9-67dfd309b65f",
   "metadata": {},
   "outputs": [],
   "source": []
  },
  {
   "cell_type": "code",
   "execution_count": null,
   "id": "b5c728ba-5d51-4ea3-8513-103d43debfa6",
   "metadata": {},
   "outputs": [],
   "source": []
  },
  {
   "cell_type": "markdown",
   "id": "98977dfa-7c20-4dc1-a8e4-9599c130d0ac",
   "metadata": {},
   "source": [
    "## Reduced Data Variance\n",
    "\n"
   ]
  },
  {
   "cell_type": "code",
   "execution_count": null,
   "id": "859d38cb-6fbe-4ae3-a926-9eb03b1491df",
   "metadata": {},
   "outputs": [],
   "source": [
    "# Background State and Covariance Matrices\n",
    "u = np.zeros((2,hours))\n",
    "u[:,0]=[d[0],-2.0]       # initialize,background state \n",
    "P = np.zeros((2,2,hours))\n",
    "P[:,:,0] = np.array([[1e-3, 0.],\n",
    "                  [0.,  1e-3]]) # background state covariance\n",
    "Q = np.array([[1e-05, 0.],\n",
    "            [0,  1e-03]]) # process noise covariance\n",
    "H = np.array([[1., 0.]])  # first component observed\n",
    "R = np.array([1e-05]) # data variance\n",
    "T = 100.0 # timelag\n",
    "\n",
    "for t in range(1, hours):\n",
    "    update_phase = ~np.isnan(d[t])\n",
    "    if update_phase:\n",
    "        u[:,t],P[:,:,t] = ext_kf(u[:,t-1],P[:,:,t-1],\n",
    "                                  lambda uu: model_augmented(uu,Ed[t],Ew[t],rain[t],t, T=T),\n",
    "                                  Q,d[t],H=H,R=R)\n",
    "    else:\n",
    "        u[:,t],P[:,:,t] = ext_kf(u[:,t-1],P[:,:,t-1],\n",
    "                                  lambda uu: model_augmented(uu,Ed[t],Ew[t],rain[t],t, T=T),\n",
    "                                  Q*0.0)"
   ]
  },
  {
   "cell_type": "code",
   "execution_count": null,
   "id": "86d7af5d-19d7-47f7-8528-18a70a92b3a3",
   "metadata": {},
   "outputs": [],
   "source": [
    "plt.plot(times, Ed, **plot_styles[\"Ed\"])\n",
    "plt.plot(times, Ew, **plot_styles[\"Ew\"])\n",
    "plt.plot(times, rain, **plot_styles[\"rain\"])\n",
    "plt.xticks(rotation=90)\n",
    "plt.scatter(times, d, **plot_styles[\"fm\"])\n",
    "plt.plot(times, u[0, :], **plot_styles[\"model\"])\n",
    "plt.legend()\n",
    "plt.title(f\"KF With {T=}, {R=}\")"
   ]
  },
  {
   "cell_type": "code",
   "execution_count": null,
   "id": "88b0431b-d601-40ab-b36d-5401a34220bf",
   "metadata": {},
   "outputs": [],
   "source": []
  },
  {
   "cell_type": "code",
   "execution_count": null,
   "id": "ea725ae4-222d-40f7-8011-fcd4be65eefa",
   "metadata": {},
   "outputs": [],
   "source": []
  },
  {
   "cell_type": "code",
   "execution_count": null,
   "id": "1805cca3-aa47-4e04-a6b5-2b85e73d8323",
   "metadata": {},
   "outputs": [],
   "source": []
  },
  {
   "cell_type": "code",
   "execution_count": null,
   "id": "cb6cc285-0b53-4928-a4d4-f7102f15f7ab",
   "metadata": {},
   "outputs": [],
   "source": [
    "# Background State and Covariance Matrices\n",
    "u = np.zeros((2,hours))\n",
    "u[:,0]=[d[0],-2.0]       # initialize,background state \n",
    "P = np.zeros((2,2,hours))\n",
    "P[:,:,0] = np.array([[1e-3, 0.],\n",
    "                  [0.,  1e-3]]) # background state covariance\n",
    "Q = np.array([[1e-03, 0.],\n",
    "            [0,  1e-03]]) # process noise covariance\n",
    "H = np.array([[1., 0.]])  # first component observed\n",
    "R = np.array([1e-5]) # data variance\n",
    "T = 1 # timelag\n",
    "\n",
    "for t in range(1, hours):\n",
    "    update_phase = ~np.isnan(d[t])\n",
    "    if update_phase:\n",
    "        u[:,t],P[:,:,t] = ext_kf(u[:,t-1],P[:,:,t-1],\n",
    "                                  lambda uu: model_augmented(uu,Ed[t],Ew[t],rain[t],t, T=T),\n",
    "                                  Q,d[t],H=H,R=R)\n",
    "    else:\n",
    "        u[:,t],P[:,:,t] = ext_kf(u[:,t-1],P[:,:,t-1],\n",
    "                                  lambda uu: model_augmented(uu,Ed[t],Ew[t],rain[t],t, T=T),\n",
    "                                  Q*0.0)\n",
    "\n",
    "plt.plot(times, Ed, **plot_styles[\"Ed\"])\n",
    "plt.plot(times, Ew, **plot_styles[\"Ew\"])\n",
    "plt.plot(times, rain, **plot_styles[\"rain\"])\n",
    "plt.xticks(rotation=90)\n",
    "plt.scatter(times, d, **plot_styles[\"fm\"])\n",
    "plt.plot(times, u[0, :], **plot_styles[\"model\"])\n",
    "plt.legend()\n",
    "plt.title(f\"KF With {T=}, {R=}\")"
   ]
  },
  {
   "cell_type": "code",
   "execution_count": null,
   "id": "e9f6c93f-f45e-4295-9fe5-c1e6a886749c",
   "metadata": {},
   "outputs": [],
   "source": []
  },
  {
   "cell_type": "code",
   "execution_count": null,
   "id": "c3a08481-245a-443f-b527-9aef47413ef1",
   "metadata": {},
   "outputs": [],
   "source": []
  },
  {
   "cell_type": "code",
   "execution_count": null,
   "id": "8cf4af6a-a38c-470e-9fad-f5835129b568",
   "metadata": {},
   "outputs": [],
   "source": []
  },
  {
   "cell_type": "markdown",
   "id": "5a22db77-e466-4aa8-b2e7-a515aa130a9f",
   "metadata": {},
   "source": [
    "## Other Approaches\n",
    "\n",
    "Starting with:\n",
    "$$\n",
    "m_t = (1-e^{-1/T})E + e^{-1/T}m_{t-1}\n",
    "$$\n",
    "\n",
    "Allow $E_t$ to vary over time, introduce $\\Delta E$ so\n",
    "\n",
    "$$\n",
    "m_t = (1-e^{-1/T})[E_t + \\Delta E] + e^{-1/T}m_{t-1}\n",
    "$$"
   ]
  },
  {
   "cell_type": "markdown",
   "id": "862ff8c8-55c7-409b-8e8c-d20461514e0a",
   "metadata": {},
   "source": [
    "Let's plot the first two known points, then try this simple algorithm:\n",
    "- Fix $T=1$\n",
    "- Grid search $\\Delta E$, plot solutions"
   ]
  },
  {
   "cell_type": "code",
   "execution_count": null,
   "id": "498622bb-8f00-4fd7-b752-1dfe17219544",
   "metadata": {},
   "outputs": [],
   "source": [
    "inds = np.where(~np.isnan(d))[0][0:2]\n",
    "print(inds)\n",
    "times = np.arange(inds[0], inds[1]+1)\n",
    "\n",
    "plt.plot(times, Ed[times], **plot_styles[\"Ed\"])\n",
    "plt.plot(times, Ew[times], **plot_styles[\"Ew\"])\n",
    "plt.scatter(inds, d[inds], **plot_styles[\"fm\"])\n",
    "plt.grid()"
   ]
  },
  {
   "cell_type": "code",
   "execution_count": null,
   "id": "8ab4e129-82f2-40d4-832e-b40f719e3a25",
   "metadata": {},
   "outputs": [],
   "source": [
    "# Set up delta E grid, visualling choosing to go from -1 to -4\n",
    "dE = np.linspace(-1, -4, 5)\n",
    "print(f\"{dE=}\")\n",
    "\n",
    "# Fixed Params\n",
    "u = np.zeros((2,hours))\n",
    "T = 1.0 # timelag"
   ]
  },
  {
   "cell_type": "code",
   "execution_count": null,
   "id": "22f11e17-863b-4956-8452-5b4b05ae35ac",
   "metadata": {},
   "outputs": [],
   "source": [
    "u0=d[inds[0]]\n",
    "u1=d[inds[1]+1]"
   ]
  },
  {
   "cell_type": "code",
   "execution_count": null,
   "id": "9fd247ce-5b2c-4fab-a74f-efdef7fb517f",
   "metadata": {},
   "outputs": [],
   "source": [
    "def run_ode(m0, deltaE, E):\n",
    "    tsteps = E.shape[0]\n",
    "    m = np.zeros(tsteps)\n",
    "    m[0] = m0\n",
    "    for t in range(1, tsteps):\n",
    "        m[t] = (1-np.exp(-1))*(E[t]+deltaE) + np.exp(-1/T)*m[t-1]\n",
    "\n",
    "    return m"
   ]
  },
  {
   "cell_type": "code",
   "execution_count": null,
   "id": "5d6c7025-3c90-44f2-add3-ea661c1d3961",
   "metadata": {},
   "outputs": [],
   "source": [
    "mods = []\n",
    "for di in dE:\n",
    "    mi = run_ode(m0=u0, deltaE = di, E = Ew[times])\n",
    "    mods.append(mi)\n",
    "\n",
    "mods = np.vstack(mods)"
   ]
  },
  {
   "cell_type": "code",
   "execution_count": null,
   "id": "c6a6a636-41ae-4a9a-9d13-df379d92cea8",
   "metadata": {},
   "outputs": [],
   "source": [
    "plt.plot(times, Ed[times], **plot_styles[\"Ed\"])\n",
    "plt.plot(times, Ew[times], **plot_styles[\"Ew\"])\n",
    "plt.scatter(inds, d[inds], **plot_styles[\"fm\"])\n",
    "cmap = plt.get_cmap(\"Greens\")  \n",
    "colors = cmap(np.linspace(0, 1, len(mods)))  \n",
    "for i, mi in enumerate(mods):\n",
    "    plt.plot(times, mi, color=colors[i], label = fr\"$\\Delta$E = {dE[i]}\")\n",
    "plt.grid()\n",
    "plt.legend()"
   ]
  },
  {
   "cell_type": "markdown",
   "id": "a0ed17bf-9743-46ca-9b83-660a71557f59",
   "metadata": {},
   "source": [
    "## Fitting Params - Inverse Problem"
   ]
  },
  {
   "cell_type": "code",
   "execution_count": null,
   "id": "76da5382-639e-4c71-8669-60fe7e1524b5",
   "metadata": {},
   "outputs": [],
   "source": []
  },
  {
   "cell_type": "code",
   "execution_count": null,
   "id": "a8f549c1-45c2-485d-bd85-9ecd758b4ba1",
   "metadata": {},
   "outputs": [],
   "source": []
  },
  {
   "cell_type": "code",
   "execution_count": null,
   "id": "db7faef8-0515-4506-8416-8351297058b3",
   "metadata": {},
   "outputs": [],
   "source": []
  },
  {
   "cell_type": "code",
   "execution_count": null,
   "id": "f1682b5c-cb3c-4fa3-ba8d-6f61a1dbf32a",
   "metadata": {},
   "outputs": [],
   "source": []
  }
 ],
 "metadata": {
  "kernelspec": {
   "display_name": "Python 3 (ipykernel)",
   "language": "python",
   "name": "python3"
  },
  "language_info": {
   "codemirror_mode": {
    "name": "ipython",
    "version": 3
   },
   "file_extension": ".py",
   "mimetype": "text/x-python",
   "name": "python",
   "nbconvert_exporter": "python",
   "pygments_lexer": "ipython3",
   "version": "3.12.2"
  }
 },
 "nbformat": 4,
 "nbformat_minor": 5
}
