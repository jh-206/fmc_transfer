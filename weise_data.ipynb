{
 "cells": [
  {
   "cell_type": "markdown",
   "id": "5b4e5d21-d69a-4a3d-bf3d-94ddab5a731c",
   "metadata": {},
   "source": [
    "# Fuel Moisture Field Observations from Hawaii\n",
    "\n",
    "The purpose of this notebook is to clean and format data received from David Weise on his field study of fuel moisture content in Hawaii in 2000. Observations were taken of various plant species, live and dead, and weather data from portable station as well as a nearby RAWS.\n",
    "\n",
    "## Background\n",
    "\n",
    "- Published in 2004\n",
    "- Used to compare Nelson model to other methods"
   ]
  },
  {
   "cell_type": "markdown",
   "id": "ccd87e26-d898-4898-994f-975911d86cf0",
   "metadata": {},
   "source": [
    "## Setup"
   ]
  },
  {
   "cell_type": "code",
   "execution_count": null,
   "id": "09e6cb97-f896-49bd-bf12-5cc9e3c68b70",
   "metadata": {},
   "outputs": [],
   "source": [
    "import numpy as np\n",
    "import pandas as pd\n",
    "import os.path as osp\n",
    "\n",
    "data_dir = \"data/Hawaii_Weise_2000\""
   ]
  },
  {
   "cell_type": "code",
   "execution_count": null,
   "id": "750c06a2-3068-41d8-bc80-71b08ee2a6b6",
   "metadata": {},
   "outputs": [],
   "source": [
    "fm = pd.read_csv(osp.join(data_dir, \"hawaiiFM_for_Hirschi.csv\"))\n",
    "sts = pd.read_csv(osp.join(data_dir, \"site_location_for_Hirschi.csv\"))\n",
    "raws1999 = pd.read_csv(osp.join(data_dir, \"PTA_1999_RAWS.csv\"))\n",
    "raws2000 = pd.read_csv(osp.join(data_dir, \"HI_2000_RAWS.csv\"))\n",
    "raws2001 = pd.read_csv(osp.join(data_dir, \"Portable_RAWS_2001.csv\"))"
   ]
  },
  {
   "cell_type": "code",
   "execution_count": null,
   "id": "b0e95ae6-8865-4295-ac0a-59422f74a515",
   "metadata": {},
   "outputs": [],
   "source": []
  },
  {
   "cell_type": "code",
   "execution_count": null,
   "id": "5843cb42-b5cd-4c84-8a85-d8530bd91ee4",
   "metadata": {},
   "outputs": [],
   "source": []
  }
 ],
 "metadata": {
  "kernelspec": {
   "display_name": "Python 3 (ipykernel)",
   "language": "python",
   "name": "python3"
  },
  "language_info": {
   "codemirror_mode": {
    "name": "ipython",
    "version": 3
   },
   "file_extension": ".py",
   "mimetype": "text/x-python",
   "name": "python",
   "nbconvert_exporter": "python",
   "pygments_lexer": "ipython3",
   "version": "3.12.2"
  }
 },
 "nbformat": 4,
 "nbformat_minor": 5
}
