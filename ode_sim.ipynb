{
 "cells": [
  {
   "cell_type": "markdown",
   "id": "6e4a703e-6bfa-4374-a510-cc50be1ae50d",
   "metadata": {},
   "source": [
    "# Data simulation with Timelag ODE\n",
    "\n",
    "The goal of this notebook is to describe simulating 1h data using the timelag ODE (Mandel 2016) to run as a data interpolation tool for fuel moisture content. "
   ]
  },
  {
   "cell_type": "markdown",
   "id": "d80b55cf-02de-49f2-8839-4b70dc360feb",
   "metadata": {},
   "source": [
    "## Setup"
   ]
  },
  {
   "cell_type": "code",
   "execution_count": null,
   "id": "f1175115-c138-4928-adb0-3aae13dcb97c",
   "metadata": {},
   "outputs": [],
   "source": [
    "import pandas as pd\n",
    "import numpy as np\n",
    "import matplotlib.pyplot as plt\n",
    "\n",
    "# Local modules\n",
    "from src.utils import read_yml, Dict, plot_styles\n",
    "\n",
    "ode_params = Dict(read_yml(\"etc/params_models.yaml\", subkey=\"ode\"))"
   ]
  },
  {
   "cell_type": "markdown",
   "id": "39b45f14-5708-432f-9222-9ae7dd5b2dee",
   "metadata": {},
   "source": [
    "## Adjust Params\n",
    "\n",
    "- Change timelag constant to 1\n",
    "- Reduce process variance, something larger like 1e-3\n",
    "- Reduce data variance, something very small like 1e-6. Don't want to make zero for stability reasons\n",
    "\n",
    "Checking some combos below"
   ]
  },
  {
   "cell_type": "code",
   "execution_count": null,
   "id": "e8b374cc-74c4-4b0c-960b-de35c5958858",
   "metadata": {},
   "outputs": [],
   "source": [
    "ode_params"
   ]
  },
  {
   "cell_type": "markdown",
   "id": "9a89a664-109d-4e31-ba5c-67beb29fa404",
   "metadata": {},
   "source": [
    "## Run a stretch of data\n",
    "\n",
    "Constant equilibria of 20\\%, no rain\n",
    "\n",
    "Minute Resolution?"
   ]
  },
  {
   "cell_type": "code",
   "execution_count": null,
   "id": "570cc7bf-8ae4-4fe6-ae61-9eca3efbe1aa",
   "metadata": {},
   "outputs": [],
   "source": [
    "m0 = 10   # Initial moisture content\n",
    "Nt = 100  # number of timesteps\n",
    "h2 = 50 # spinup hours\n",
    "\n",
    "dat = {\n",
    "    \"fm\": np.repeat(10, h2).astype(float),\n",
    "    \"Ed\": np.repeat(20, Nt).astype(float),\n",
    "    \"Ew\": np.repeat(20, Nt).astype(float),\n",
    "    \"rain\": np.repeat(0, Nt).astype(float)\n",
    "}"
   ]
  },
  {
   "cell_type": "code",
   "execution_count": null,
   "id": "13f8d864-3dbb-412e-924a-a209ffd5795d",
   "metadata": {},
   "outputs": [],
   "source": [
    "import importlib\n",
    "import src.moisture_ode \n",
    "importlib.reload(src.moisture_ode)\n",
    "\n",
    "\n",
    "from src.moisture_ode import ODE_FMC"
   ]
  },
  {
   "cell_type": "code",
   "execution_count": null,
   "id": "5653f1db-a2ea-4d1a-bf01-a81ebfbf36f4",
   "metadata": {},
   "outputs": [],
   "source": [
    "ode_params.update({\n",
    "    \"T\": 10, \n",
    "})\n",
    "mod = ODE_FMC(ode_params)"
   ]
  },
  {
   "cell_type": "code",
   "execution_count": null,
   "id": "6645143f-c5b1-40ce-86d8-76dfe1fc8cb2",
   "metadata": {},
   "outputs": [],
   "source": [
    "x = mod.run_model_single(dat, hours=Nt, h2 = h2)"
   ]
  },
  {
   "cell_type": "code",
   "execution_count": null,
   "id": "ef3eb780-0df5-4f2a-a4a5-7aaf47178cd9",
   "metadata": {},
   "outputs": [],
   "source": [
    "ode_params.update({\n",
    "    \"T\": 1, # 1h fine fuels\n",
    "})\n",
    "mod1 = ODE_FMC(ode_params)\n",
    "x1 = mod1.run_model_single(dat, hours=Nt, h2 = 5)"
   ]
  },
  {
   "cell_type": "code",
   "execution_count": null,
   "id": "3dd87ecf-016d-4d78-ba27-e79d14b69b6c",
   "metadata": {},
   "outputs": [],
   "source": [
    "plt.plot(x[0,:], label=\"T=10\")\n",
    "plt.plot(x1[0,:], label=\"T=1\")\n",
    "plt.legend()"
   ]
  },
  {
   "cell_type": "markdown",
   "id": "e6580afb-46af-4f36-88fa-4703dc7a20d2",
   "metadata": {},
   "source": [
    "## Simulate with Realistic Weather\n",
    "\n",
    "Sine wave Eq and Ed, no rain for now."
   ]
  },
  {
   "cell_type": "code",
   "execution_count": null,
   "id": "1fed10da-f1dc-4ce7-a12f-b8a7550312ef",
   "metadata": {},
   "outputs": [],
   "source": [
    "m0 = 10   # Initial moisture content\n",
    "h2 = 50   # spinup hours\n",
    "\n"
   ]
  },
  {
   "cell_type": "code",
   "execution_count": null,
   "id": "0540fbba-e74c-4bcd-ba1e-67df756adca0",
   "metadata": {},
   "outputs": [],
   "source": [
    "Nt = 100  # number of timesteps\n",
    "time = np.linspace(0, Nt, Nt)\n",
    "amplitude = 10.0\n",
    "period = 24.0  \n",
    "offset = 20 \n",
    "noise = np.random.normal(0, 1, size=len(time))\n",
    "\n",
    "\n",
    "dat = {\n",
    "    \"Ed\": amplitude * np.sin(2 * np.pi * 1/period * time) + offset + noise,\n",
    "    \"Ew\": amplitude * np.sin(2 * np.pi * 1/period * time) + offset-5 + noise,\n",
    "    \"rain\": np.repeat(0, Nt).astype(float),\n",
    "    \"fm\": None\n",
    "}\n",
    "\n",
    "\n",
    "plt.plot(dat[\"Ed\"], **plot_styles[\"Ed\"])\n",
    "plt.plot(dat[\"Ew\"], **plot_styles[\"Ew\"])"
   ]
  },
  {
   "cell_type": "code",
   "execution_count": null,
   "id": "fd4a0ce5-de2f-4916-8b9e-7efda7176ba6",
   "metadata": {},
   "outputs": [],
   "source": [
    "ode_params.update({\n",
    "    \"T\": 1, # 1h fine fuels\n",
    "})\n",
    "mod1 = ODE_FMC(ode_params)\n",
    "x1 = mod1.run_model_single(dat, hours=Nt, h2 = 0)\n",
    "\n",
    "# 10h\n",
    "ode_params.update({\n",
    "    \"T\": 10, \n",
    "})\n",
    "mod10 = ODE_FMC(ode_params)\n",
    "x10 = mod10.run_model_single(dat, hours=Nt, h2 = 0)\n",
    "\n",
    "# 100h\n",
    "ode_params.update({\n",
    "    \"T\": 100, \n",
    "})\n",
    "mod100 = ODE_FMC(ode_params)\n",
    "x100 = mod100.run_model_single(dat, hours=Nt, h2 = 0)"
   ]
  },
  {
   "cell_type": "code",
   "execution_count": null,
   "id": "0595cc36-82ac-417b-a882-88f2f9faadb6",
   "metadata": {},
   "outputs": [],
   "source": [
    "plt.plot(dat[\"Ed\"], **plot_styles[\"Ed\"])\n",
    "plt.plot(dat[\"Ew\"], **plot_styles[\"Ew\"])\n",
    "plt.plot(x1[0,:], '#51F551', label = \"1h\")\n",
    "plt.plot(x10[0,:], '#2B822B', label = \"10h\")\n",
    "plt.plot(x100[0,:], '#123612', label = \"100h\")\n",
    "plt.legend()"
   ]
  },
  {
   "cell_type": "code",
   "execution_count": null,
   "id": "ca8bb9e9-2811-4772-a82a-fd93a2c0c768",
   "metadata": {},
   "outputs": [],
   "source": []
  },
  {
   "cell_type": "code",
   "execution_count": null,
   "id": "c04a49b9-34a5-4c08-b9f8-43e1be7dbf67",
   "metadata": {},
   "outputs": [],
   "source": []
  },
  {
   "cell_type": "code",
   "execution_count": null,
   "id": "c10bea82-c9a8-4554-beac-5ff6f192f67d",
   "metadata": {},
   "outputs": [],
   "source": []
  },
  {
   "cell_type": "code",
   "execution_count": null,
   "id": "7fe93801-3685-4ff2-b16a-bfd48c7ff422",
   "metadata": {},
   "outputs": [],
   "source": []
  }
 ],
 "metadata": {
  "kernelspec": {
   "display_name": "Python 3 (ipykernel)",
   "language": "python",
   "name": "python3"
  },
  "language_info": {
   "codemirror_mode": {
    "name": "ipython",
    "version": 3
   },
   "file_extension": ".py",
   "mimetype": "text/x-python",
   "name": "python",
   "nbconvert_exporter": "python",
   "pygments_lexer": "ipython3",
   "version": "3.12.2"
  }
 },
 "nbformat": 4,
 "nbformat_minor": 5
}
